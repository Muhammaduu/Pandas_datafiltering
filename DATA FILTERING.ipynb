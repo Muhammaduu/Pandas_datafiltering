{
 "cells": [
  {
   "cell_type": "markdown",
   "id": "b3a9e4d8",
   "metadata": {},
   "source": [
    "# DATA FILTERING\n"
   ]
  },
  {
   "cell_type": "markdown",
   "id": "ceb56292",
   "metadata": {},
   "source": [
    "##### 01/02/2024\n"
   ]
  },
  {
   "cell_type": "markdown",
   "id": "95d8b64a",
   "metadata": {},
   "source": [
    "##### M.Abdirisak.A"
   ]
  },
  {
   "cell_type": "code",
   "execution_count": 30,
   "id": "798af689",
   "metadata": {},
   "outputs": [],
   "source": [
    "import pandas as pd\n",
    "import numpy as np"
   ]
  },
  {
   "cell_type": "code",
   "execution_count": 31,
   "id": "661bb5ea",
   "metadata": {},
   "outputs": [],
   "source": [
    "students={\n",
    "    'NAME':[\"ADEN A\",\"MAINA J\",\"GOLD K\",\"FARO D\",\"QURASHA H \",\" CESS M\",\"PAULO M\",\"DENA B\",\"MAINA L\",\"MOHAMED A\"],\n",
    "    'UNIT':[\"HIV\",\"EDA\",\"TOE\",\"CBA\",\"RM\",\"RM\",\"SP\",\"LP\",\"TOH\",\"CS\"],\n",
    "    'SCORE':np.random.uniform(40,100,10),\n",
    "    'loc_area':[\"SHALOM\",\"RUNDA\",\"MKU\",\"TATU\",\"MAKONGENI\",\"TATU\",\"MKU\",\"RUNDA\",\"YMCA\",\"YMCA\"]\n",
    "    \n",
    "}\n",
    "df=pd.DataFrame(students)"
   ]
  },
  {
   "cell_type": "code",
   "execution_count": 32,
   "id": "c7223da7",
   "metadata": {},
   "outputs": [
    {
     "data": {
      "text/html": [
       "<div>\n",
       "<style scoped>\n",
       "    .dataframe tbody tr th:only-of-type {\n",
       "        vertical-align: middle;\n",
       "    }\n",
       "\n",
       "    .dataframe tbody tr th {\n",
       "        vertical-align: top;\n",
       "    }\n",
       "\n",
       "    .dataframe thead th {\n",
       "        text-align: right;\n",
       "    }\n",
       "</style>\n",
       "<table border=\"1\" class=\"dataframe\">\n",
       "  <thead>\n",
       "    <tr style=\"text-align: right;\">\n",
       "      <th></th>\n",
       "      <th>NAME</th>\n",
       "      <th>UNIT</th>\n",
       "      <th>SCORE</th>\n",
       "      <th>loc_area</th>\n",
       "    </tr>\n",
       "  </thead>\n",
       "  <tbody>\n",
       "    <tr>\n",
       "      <th>0</th>\n",
       "      <td>ADEN A</td>\n",
       "      <td>HIV</td>\n",
       "      <td>70.936518</td>\n",
       "      <td>SHALOM</td>\n",
       "    </tr>\n",
       "    <tr>\n",
       "      <th>1</th>\n",
       "      <td>MAINA J</td>\n",
       "      <td>EDA</td>\n",
       "      <td>58.658122</td>\n",
       "      <td>RUNDA</td>\n",
       "    </tr>\n",
       "    <tr>\n",
       "      <th>2</th>\n",
       "      <td>GOLD K</td>\n",
       "      <td>TOE</td>\n",
       "      <td>85.005427</td>\n",
       "      <td>MKU</td>\n",
       "    </tr>\n",
       "    <tr>\n",
       "      <th>3</th>\n",
       "      <td>FARO D</td>\n",
       "      <td>CBA</td>\n",
       "      <td>89.269842</td>\n",
       "      <td>TATU</td>\n",
       "    </tr>\n",
       "    <tr>\n",
       "      <th>4</th>\n",
       "      <td>QURASHA H</td>\n",
       "      <td>RM</td>\n",
       "      <td>79.300707</td>\n",
       "      <td>MAKONGENI</td>\n",
       "    </tr>\n",
       "    <tr>\n",
       "      <th>5</th>\n",
       "      <td>CESS M</td>\n",
       "      <td>RM</td>\n",
       "      <td>65.663859</td>\n",
       "      <td>TATU</td>\n",
       "    </tr>\n",
       "    <tr>\n",
       "      <th>6</th>\n",
       "      <td>PAULO M</td>\n",
       "      <td>SP</td>\n",
       "      <td>75.870339</td>\n",
       "      <td>MKU</td>\n",
       "    </tr>\n",
       "    <tr>\n",
       "      <th>7</th>\n",
       "      <td>DENA B</td>\n",
       "      <td>LP</td>\n",
       "      <td>41.241150</td>\n",
       "      <td>RUNDA</td>\n",
       "    </tr>\n",
       "    <tr>\n",
       "      <th>8</th>\n",
       "      <td>MAINA L</td>\n",
       "      <td>TOH</td>\n",
       "      <td>70.538329</td>\n",
       "      <td>YMCA</td>\n",
       "    </tr>\n",
       "    <tr>\n",
       "      <th>9</th>\n",
       "      <td>MOHAMED A</td>\n",
       "      <td>CS</td>\n",
       "      <td>89.273558</td>\n",
       "      <td>YMCA</td>\n",
       "    </tr>\n",
       "  </tbody>\n",
       "</table>\n",
       "</div>"
      ],
      "text/plain": [
       "         NAME UNIT      SCORE   loc_area\n",
       "0      ADEN A  HIV  70.936518     SHALOM\n",
       "1     MAINA J  EDA  58.658122      RUNDA\n",
       "2      GOLD K  TOE  85.005427        MKU\n",
       "3      FARO D  CBA  89.269842       TATU\n",
       "4  QURASHA H    RM  79.300707  MAKONGENI\n",
       "5      CESS M   RM  65.663859       TATU\n",
       "6     PAULO M   SP  75.870339        MKU\n",
       "7      DENA B   LP  41.241150      RUNDA\n",
       "8     MAINA L  TOH  70.538329       YMCA\n",
       "9   MOHAMED A   CS  89.273558       YMCA"
      ]
     },
     "execution_count": 32,
     "metadata": {},
     "output_type": "execute_result"
    }
   ],
   "source": [
    "df"
   ]
  },
  {
   "cell_type": "code",
   "execution_count": 67,
   "id": "625321b1",
   "metadata": {},
   "outputs": [
    {
     "data": {
      "text/plain": [
       "(10, 4)"
      ]
     },
     "execution_count": 67,
     "metadata": {},
     "output_type": "execute_result"
    }
   ],
   "source": [
    "df.shape"
   ]
  },
  {
   "cell_type": "markdown",
   "id": "419a52a0",
   "metadata": {},
   "source": [
    "### Logical Operation"
   ]
  },
  {
   "cell_type": "code",
   "execution_count": 33,
   "id": "c43f9425",
   "metadata": {},
   "outputs": [
    {
     "data": {
      "text/html": [
       "<div>\n",
       "<style scoped>\n",
       "    .dataframe tbody tr th:only-of-type {\n",
       "        vertical-align: middle;\n",
       "    }\n",
       "\n",
       "    .dataframe tbody tr th {\n",
       "        vertical-align: top;\n",
       "    }\n",
       "\n",
       "    .dataframe thead th {\n",
       "        text-align: right;\n",
       "    }\n",
       "</style>\n",
       "<table border=\"1\" class=\"dataframe\">\n",
       "  <thead>\n",
       "    <tr style=\"text-align: right;\">\n",
       "      <th></th>\n",
       "      <th>NAME</th>\n",
       "      <th>UNIT</th>\n",
       "      <th>SCORE</th>\n",
       "      <th>loc_area</th>\n",
       "    </tr>\n",
       "  </thead>\n",
       "  <tbody>\n",
       "    <tr>\n",
       "      <th>0</th>\n",
       "      <td>ADEN A</td>\n",
       "      <td>HIV</td>\n",
       "      <td>70.936518</td>\n",
       "      <td>SHALOM</td>\n",
       "    </tr>\n",
       "    <tr>\n",
       "      <th>1</th>\n",
       "      <td>MAINA J</td>\n",
       "      <td>EDA</td>\n",
       "      <td>58.658122</td>\n",
       "      <td>RUNDA</td>\n",
       "    </tr>\n",
       "    <tr>\n",
       "      <th>4</th>\n",
       "      <td>QURASHA H</td>\n",
       "      <td>RM</td>\n",
       "      <td>79.300707</td>\n",
       "      <td>MAKONGENI</td>\n",
       "    </tr>\n",
       "    <tr>\n",
       "      <th>5</th>\n",
       "      <td>CESS M</td>\n",
       "      <td>RM</td>\n",
       "      <td>65.663859</td>\n",
       "      <td>TATU</td>\n",
       "    </tr>\n",
       "    <tr>\n",
       "      <th>6</th>\n",
       "      <td>PAULO M</td>\n",
       "      <td>SP</td>\n",
       "      <td>75.870339</td>\n",
       "      <td>MKU</td>\n",
       "    </tr>\n",
       "    <tr>\n",
       "      <th>7</th>\n",
       "      <td>DENA B</td>\n",
       "      <td>LP</td>\n",
       "      <td>41.241150</td>\n",
       "      <td>RUNDA</td>\n",
       "    </tr>\n",
       "    <tr>\n",
       "      <th>8</th>\n",
       "      <td>MAINA L</td>\n",
       "      <td>TOH</td>\n",
       "      <td>70.538329</td>\n",
       "      <td>YMCA</td>\n",
       "    </tr>\n",
       "  </tbody>\n",
       "</table>\n",
       "</div>"
      ],
      "text/plain": [
       "         NAME UNIT      SCORE   loc_area\n",
       "0      ADEN A  HIV  70.936518     SHALOM\n",
       "1     MAINA J  EDA  58.658122      RUNDA\n",
       "4  QURASHA H    RM  79.300707  MAKONGENI\n",
       "5      CESS M   RM  65.663859       TATU\n",
       "6     PAULO M   SP  75.870339        MKU\n",
       "7      DENA B   LP  41.241150      RUNDA\n",
       "8     MAINA L  TOH  70.538329       YMCA"
      ]
     },
     "execution_count": 33,
     "metadata": {},
     "output_type": "execute_result"
    }
   ],
   "source": [
    "# it is used on column values to filter row values\n",
    "# this will gives us those whose score is less than 80\n",
    "df[df.SCORE<80]"
   ]
  },
  {
   "cell_type": "code",
   "execution_count": 34,
   "id": "2825c388",
   "metadata": {},
   "outputs": [
    {
     "data": {
      "text/html": [
       "<div>\n",
       "<style scoped>\n",
       "    .dataframe tbody tr th:only-of-type {\n",
       "        vertical-align: middle;\n",
       "    }\n",
       "\n",
       "    .dataframe tbody tr th {\n",
       "        vertical-align: top;\n",
       "    }\n",
       "\n",
       "    .dataframe thead th {\n",
       "        text-align: right;\n",
       "    }\n",
       "</style>\n",
       "<table border=\"1\" class=\"dataframe\">\n",
       "  <thead>\n",
       "    <tr style=\"text-align: right;\">\n",
       "      <th></th>\n",
       "      <th>NAME</th>\n",
       "      <th>UNIT</th>\n",
       "      <th>SCORE</th>\n",
       "      <th>loc_area</th>\n",
       "    </tr>\n",
       "  </thead>\n",
       "  <tbody>\n",
       "    <tr>\n",
       "      <th>1</th>\n",
       "      <td>MAINA J</td>\n",
       "      <td>EDA</td>\n",
       "      <td>58.658122</td>\n",
       "      <td>RUNDA</td>\n",
       "    </tr>\n",
       "    <tr>\n",
       "      <th>7</th>\n",
       "      <td>DENA B</td>\n",
       "      <td>LP</td>\n",
       "      <td>41.241150</td>\n",
       "      <td>RUNDA</td>\n",
       "    </tr>\n",
       "  </tbody>\n",
       "</table>\n",
       "</div>"
      ],
      "text/plain": [
       "      NAME UNIT      SCORE loc_area\n",
       "1  MAINA J  EDA  58.658122    RUNDA\n",
       "7   DENA B   LP  41.241150    RUNDA"
      ]
     },
     "execution_count": 34,
     "metadata": {},
     "output_type": "execute_result"
    }
   ],
   "source": [
    "# it can also be used on strings\n",
    "# this will gives thise those local area is Runda\n",
    "df[df.loc_area==\"RUNDA\"]"
   ]
  },
  {
   "cell_type": "markdown",
   "id": "6e4971b7",
   "metadata": {},
   "source": [
    "### Multiple  Logical Operators"
   ]
  },
  {
   "cell_type": "code",
   "execution_count": 38,
   "id": "f3f636a5",
   "metadata": {},
   "outputs": [
    {
     "data": {
      "text/html": [
       "<div>\n",
       "<style scoped>\n",
       "    .dataframe tbody tr th:only-of-type {\n",
       "        vertical-align: middle;\n",
       "    }\n",
       "\n",
       "    .dataframe tbody tr th {\n",
       "        vertical-align: top;\n",
       "    }\n",
       "\n",
       "    .dataframe thead th {\n",
       "        text-align: right;\n",
       "    }\n",
       "</style>\n",
       "<table border=\"1\" class=\"dataframe\">\n",
       "  <thead>\n",
       "    <tr style=\"text-align: right;\">\n",
       "      <th></th>\n",
       "      <th>NAME</th>\n",
       "      <th>UNIT</th>\n",
       "      <th>SCORE</th>\n",
       "      <th>loc_area</th>\n",
       "    </tr>\n",
       "  </thead>\n",
       "  <tbody>\n",
       "    <tr>\n",
       "      <th>8</th>\n",
       "      <td>MAINA L</td>\n",
       "      <td>TOH</td>\n",
       "      <td>70.538329</td>\n",
       "      <td>YMCA</td>\n",
       "    </tr>\n",
       "    <tr>\n",
       "      <th>9</th>\n",
       "      <td>MOHAMED A</td>\n",
       "      <td>CS</td>\n",
       "      <td>89.273558</td>\n",
       "      <td>YMCA</td>\n",
       "    </tr>\n",
       "  </tbody>\n",
       "</table>\n",
       "</div>"
      ],
      "text/plain": [
       "        NAME UNIT      SCORE loc_area\n",
       "8    MAINA L  TOH  70.538329     YMCA\n",
       "9  MOHAMED A   CS  89.273558     YMCA"
      ]
     },
     "execution_count": 38,
     "metadata": {},
     "output_type": "execute_result"
    }
   ],
   "source": [
    "# logical AND(&)\n",
    "df[(df.loc_area==\"YMCA\") & (df.SCORE>50)]"
   ]
  },
  {
   "cell_type": "code",
   "execution_count": 42,
   "id": "ecd0df4f",
   "metadata": {},
   "outputs": [
    {
     "data": {
      "text/html": [
       "<div>\n",
       "<style scoped>\n",
       "    .dataframe tbody tr th:only-of-type {\n",
       "        vertical-align: middle;\n",
       "    }\n",
       "\n",
       "    .dataframe tbody tr th {\n",
       "        vertical-align: top;\n",
       "    }\n",
       "\n",
       "    .dataframe thead th {\n",
       "        text-align: right;\n",
       "    }\n",
       "</style>\n",
       "<table border=\"1\" class=\"dataframe\">\n",
       "  <thead>\n",
       "    <tr style=\"text-align: right;\">\n",
       "      <th></th>\n",
       "      <th>NAME</th>\n",
       "      <th>UNIT</th>\n",
       "      <th>SCORE</th>\n",
       "      <th>loc_area</th>\n",
       "    </tr>\n",
       "  </thead>\n",
       "  <tbody>\n",
       "    <tr>\n",
       "      <th>3</th>\n",
       "      <td>FARO D</td>\n",
       "      <td>CBA</td>\n",
       "      <td>89.269842</td>\n",
       "      <td>TATU</td>\n",
       "    </tr>\n",
       "    <tr>\n",
       "      <th>5</th>\n",
       "      <td>CESS M</td>\n",
       "      <td>RM</td>\n",
       "      <td>65.663859</td>\n",
       "      <td>TATU</td>\n",
       "    </tr>\n",
       "  </tbody>\n",
       "</table>\n",
       "</div>"
      ],
      "text/plain": [
       "      NAME UNIT      SCORE loc_area\n",
       "3   FARO D  CBA  89.269842     TATU\n",
       "5   CESS M   RM  65.663859     TATU"
      ]
     },
     "execution_count": 42,
     "metadata": {},
     "output_type": "execute_result"
    }
   ],
   "source": [
    "# logical OR(|)\n",
    "df[(df.NAME==\"FARO D\" ) |(df.loc_area==\"TATU\")]"
   ]
  },
  {
   "cell_type": "markdown",
   "id": "1444cf30",
   "metadata": {},
   "source": [
    "### isin() Method"
   ]
  },
  {
   "cell_type": "code",
   "execution_count": 51,
   "id": "c459ede3",
   "metadata": {},
   "outputs": [
    {
     "data": {
      "text/html": [
       "<div>\n",
       "<style scoped>\n",
       "    .dataframe tbody tr th:only-of-type {\n",
       "        vertical-align: middle;\n",
       "    }\n",
       "\n",
       "    .dataframe tbody tr th {\n",
       "        vertical-align: top;\n",
       "    }\n",
       "\n",
       "    .dataframe thead th {\n",
       "        text-align: right;\n",
       "    }\n",
       "</style>\n",
       "<table border=\"1\" class=\"dataframe\">\n",
       "  <thead>\n",
       "    <tr style=\"text-align: right;\">\n",
       "      <th></th>\n",
       "      <th>NAME</th>\n",
       "      <th>UNIT</th>\n",
       "      <th>SCORE</th>\n",
       "      <th>loc_area</th>\n",
       "    </tr>\n",
       "  </thead>\n",
       "  <tbody>\n",
       "    <tr>\n",
       "      <th>3</th>\n",
       "      <td>FARO D</td>\n",
       "      <td>CBA</td>\n",
       "      <td>89.269842</td>\n",
       "      <td>TATU</td>\n",
       "    </tr>\n",
       "    <tr>\n",
       "      <th>8</th>\n",
       "      <td>MAINA L</td>\n",
       "      <td>TOH</td>\n",
       "      <td>70.538329</td>\n",
       "      <td>YMCA</td>\n",
       "    </tr>\n",
       "    <tr>\n",
       "      <th>9</th>\n",
       "      <td>MOHAMED A</td>\n",
       "      <td>CS</td>\n",
       "      <td>89.273558</td>\n",
       "      <td>YMCA</td>\n",
       "    </tr>\n",
       "  </tbody>\n",
       "</table>\n",
       "</div>"
      ],
      "text/plain": [
       "        NAME UNIT      SCORE loc_area\n",
       "3     FARO D  CBA  89.269842     TATU\n",
       "8    MAINA L  TOH  70.538329     YMCA\n",
       "9  MOHAMED A   CS  89.273558     YMCA"
      ]
     },
     "execution_count": 51,
     "metadata": {},
     "output_type": "execute_result"
    }
   ],
   "source": [
    "# isin() it can be used to filter elements in a lists\n",
    "NAMES=[\"FARO D\",\"MAINA L\",\"MOHAMED A\"]\n",
    "df[df.NAME.isin(NAMES)]"
   ]
  },
  {
   "cell_type": "markdown",
   "id": "6be3f76b",
   "metadata": {},
   "source": [
    "### String Accessor "
   ]
  },
  {
   "cell_type": "code",
   "execution_count": 53,
   "id": "b3eddafe",
   "metadata": {},
   "outputs": [
    {
     "data": {
      "text/html": [
       "<div>\n",
       "<style scoped>\n",
       "    .dataframe tbody tr th:only-of-type {\n",
       "        vertical-align: middle;\n",
       "    }\n",
       "\n",
       "    .dataframe tbody tr th {\n",
       "        vertical-align: top;\n",
       "    }\n",
       "\n",
       "    .dataframe thead th {\n",
       "        text-align: right;\n",
       "    }\n",
       "</style>\n",
       "<table border=\"1\" class=\"dataframe\">\n",
       "  <thead>\n",
       "    <tr style=\"text-align: right;\">\n",
       "      <th></th>\n",
       "      <th>NAME</th>\n",
       "      <th>UNIT</th>\n",
       "      <th>SCORE</th>\n",
       "      <th>loc_area</th>\n",
       "    </tr>\n",
       "  </thead>\n",
       "  <tbody>\n",
       "    <tr>\n",
       "      <th>2</th>\n",
       "      <td>GOLD K</td>\n",
       "      <td>TOE</td>\n",
       "      <td>85.005427</td>\n",
       "      <td>MKU</td>\n",
       "    </tr>\n",
       "    <tr>\n",
       "      <th>8</th>\n",
       "      <td>MAINA L</td>\n",
       "      <td>TOH</td>\n",
       "      <td>70.538329</td>\n",
       "      <td>YMCA</td>\n",
       "    </tr>\n",
       "  </tbody>\n",
       "</table>\n",
       "</div>"
      ],
      "text/plain": [
       "      NAME UNIT      SCORE loc_area\n",
       "2   GOLD K  TOE  85.005427      MKU\n",
       "8  MAINA L  TOH  70.538329     YMCA"
      ]
     },
     "execution_count": 53,
     "metadata": {},
     "output_type": "execute_result"
    }
   ],
   "source": [
    "# srt accessor it is very helpful when filtering rows and columns\n",
    "# it can also selects names that start a certain latter\n",
    "df[df.UNIT.str.startswith(\"T\")]"
   ]
  },
  {
   "cell_type": "code",
   "execution_count": 54,
   "id": "13806844",
   "metadata": {},
   "outputs": [
    {
     "data": {
      "text/html": [
       "<div>\n",
       "<style scoped>\n",
       "    .dataframe tbody tr th:only-of-type {\n",
       "        vertical-align: middle;\n",
       "    }\n",
       "\n",
       "    .dataframe tbody tr th {\n",
       "        vertical-align: top;\n",
       "    }\n",
       "\n",
       "    .dataframe thead th {\n",
       "        text-align: right;\n",
       "    }\n",
       "</style>\n",
       "<table border=\"1\" class=\"dataframe\">\n",
       "  <thead>\n",
       "    <tr style=\"text-align: right;\">\n",
       "      <th></th>\n",
       "      <th>NAME</th>\n",
       "      <th>UNIT</th>\n",
       "      <th>SCORE</th>\n",
       "      <th>loc_area</th>\n",
       "    </tr>\n",
       "  </thead>\n",
       "  <tbody>\n",
       "    <tr>\n",
       "      <th>6</th>\n",
       "      <td>PAULO M</td>\n",
       "      <td>SP</td>\n",
       "      <td>75.870339</td>\n",
       "      <td>MKU</td>\n",
       "    </tr>\n",
       "    <tr>\n",
       "      <th>9</th>\n",
       "      <td>MOHAMED A</td>\n",
       "      <td>CS</td>\n",
       "      <td>89.273558</td>\n",
       "      <td>YMCA</td>\n",
       "    </tr>\n",
       "  </tbody>\n",
       "</table>\n",
       "</div>"
      ],
      "text/plain": [
       "        NAME UNIT      SCORE loc_area\n",
       "6    PAULO M   SP  75.870339      MKU\n",
       "9  MOHAMED A   CS  89.273558     YMCA"
      ]
     },
     "execution_count": 54,
     "metadata": {},
     "output_type": "execute_result"
    }
   ],
   "source": [
    "# contains() returns values that contain in a set\n",
    "df[df.UNIT.str.contains('S')]"
   ]
  },
  {
   "cell_type": "markdown",
   "id": "a865f4d5",
   "metadata": {},
   "source": [
    "##### Tild(~)"
   ]
  },
  {
   "cell_type": "code",
   "execution_count": 57,
   "id": "36a763d6",
   "metadata": {},
   "outputs": [
    {
     "data": {
      "text/html": [
       "<div>\n",
       "<style scoped>\n",
       "    .dataframe tbody tr th:only-of-type {\n",
       "        vertical-align: middle;\n",
       "    }\n",
       "\n",
       "    .dataframe tbody tr th {\n",
       "        vertical-align: top;\n",
       "    }\n",
       "\n",
       "    .dataframe thead th {\n",
       "        text-align: right;\n",
       "    }\n",
       "</style>\n",
       "<table border=\"1\" class=\"dataframe\">\n",
       "  <thead>\n",
       "    <tr style=\"text-align: right;\">\n",
       "      <th></th>\n",
       "      <th>NAME</th>\n",
       "      <th>UNIT</th>\n",
       "      <th>SCORE</th>\n",
       "      <th>loc_area</th>\n",
       "    </tr>\n",
       "  </thead>\n",
       "  <tbody>\n",
       "    <tr>\n",
       "      <th>2</th>\n",
       "      <td>GOLD K</td>\n",
       "      <td>TOE</td>\n",
       "      <td>85.005427</td>\n",
       "      <td>MKU</td>\n",
       "    </tr>\n",
       "    <tr>\n",
       "      <th>5</th>\n",
       "      <td>CESS M</td>\n",
       "      <td>RM</td>\n",
       "      <td>65.663859</td>\n",
       "      <td>TATU</td>\n",
       "    </tr>\n",
       "  </tbody>\n",
       "</table>\n",
       "</div>"
      ],
      "text/plain": [
       "      NAME UNIT      SCORE loc_area\n",
       "2   GOLD K  TOE  85.005427      MKU\n",
       "5   CESS M   RM  65.663859     TATU"
      ]
     },
     "execution_count": 57,
     "metadata": {},
     "output_type": "execute_result"
    }
   ],
   "source": [
    "# this is not logic operator i\n",
    "# this gives names that do not contain letter A\n",
    "df[~df.NAME.str.contains('A')]"
   ]
  },
  {
   "cell_type": "markdown",
   "id": "ccac44fc",
   "metadata": {},
   "source": [
    "##### Query()"
   ]
  },
  {
   "cell_type": "code",
   "execution_count": 69,
   "id": "d09eac50",
   "metadata": {},
   "outputs": [
    {
     "data": {
      "text/html": [
       "<div>\n",
       "<style scoped>\n",
       "    .dataframe tbody tr th:only-of-type {\n",
       "        vertical-align: middle;\n",
       "    }\n",
       "\n",
       "    .dataframe tbody tr th {\n",
       "        vertical-align: top;\n",
       "    }\n",
       "\n",
       "    .dataframe thead th {\n",
       "        text-align: right;\n",
       "    }\n",
       "</style>\n",
       "<table border=\"1\" class=\"dataframe\">\n",
       "  <thead>\n",
       "    <tr style=\"text-align: right;\">\n",
       "      <th></th>\n",
       "      <th>NAME</th>\n",
       "      <th>UNIT</th>\n",
       "      <th>SCORE</th>\n",
       "      <th>loc_area</th>\n",
       "    </tr>\n",
       "  </thead>\n",
       "  <tbody>\n",
       "    <tr>\n",
       "      <th>3</th>\n",
       "      <td>FARO D</td>\n",
       "      <td>CBA</td>\n",
       "      <td>89.269842</td>\n",
       "      <td>TATU</td>\n",
       "    </tr>\n",
       "    <tr>\n",
       "      <th>5</th>\n",
       "      <td>CESS M</td>\n",
       "      <td>RM</td>\n",
       "      <td>65.663859</td>\n",
       "      <td>TATU</td>\n",
       "    </tr>\n",
       "  </tbody>\n",
       "</table>\n",
       "</div>"
      ],
      "text/plain": [
       "      NAME UNIT      SCORE loc_area\n",
       "3   FARO D  CBA  89.269842     TATU\n",
       "5   CESS M   RM  65.663859     TATU"
      ]
     },
     "execution_count": 69,
     "metadata": {},
     "output_type": "execute_result"
    }
   ],
   "source": [
    "# allows one to query the dataframe\n",
    "df.query('loc_area==\"TATU\" and SCORE>60')"
   ]
  },
  {
   "cell_type": "markdown",
   "id": "a80afd57",
   "metadata": {},
   "source": [
    "##### nlargest & nsmallest"
   ]
  },
  {
   "cell_type": "code",
   "execution_count": 62,
   "id": "5d75d05d",
   "metadata": {},
   "outputs": [
    {
     "data": {
      "text/html": [
       "<div>\n",
       "<style scoped>\n",
       "    .dataframe tbody tr th:only-of-type {\n",
       "        vertical-align: middle;\n",
       "    }\n",
       "\n",
       "    .dataframe tbody tr th {\n",
       "        vertical-align: top;\n",
       "    }\n",
       "\n",
       "    .dataframe thead th {\n",
       "        text-align: right;\n",
       "    }\n",
       "</style>\n",
       "<table border=\"1\" class=\"dataframe\">\n",
       "  <thead>\n",
       "    <tr style=\"text-align: right;\">\n",
       "      <th></th>\n",
       "      <th>NAME</th>\n",
       "      <th>UNIT</th>\n",
       "      <th>SCORE</th>\n",
       "      <th>loc_area</th>\n",
       "    </tr>\n",
       "  </thead>\n",
       "  <tbody>\n",
       "    <tr>\n",
       "      <th>9</th>\n",
       "      <td>MOHAMED A</td>\n",
       "      <td>CS</td>\n",
       "      <td>89.273558</td>\n",
       "      <td>YMCA</td>\n",
       "    </tr>\n",
       "    <tr>\n",
       "      <th>3</th>\n",
       "      <td>FARO D</td>\n",
       "      <td>CBA</td>\n",
       "      <td>89.269842</td>\n",
       "      <td>TATU</td>\n",
       "    </tr>\n",
       "    <tr>\n",
       "      <th>2</th>\n",
       "      <td>GOLD K</td>\n",
       "      <td>TOE</td>\n",
       "      <td>85.005427</td>\n",
       "      <td>MKU</td>\n",
       "    </tr>\n",
       "  </tbody>\n",
       "</table>\n",
       "</div>"
      ],
      "text/plain": [
       "        NAME UNIT      SCORE loc_area\n",
       "9  MOHAMED A   CS  89.273558     YMCA\n",
       "3     FARO D  CBA  89.269842     TATU\n",
       "2     GOLD K  TOE  85.005427      MKU"
      ]
     },
     "execution_count": 62,
     "metadata": {},
     "output_type": "execute_result"
    }
   ],
   "source": [
    "# this function gives the largest value a column(score)\n",
    "df.nlargest(3, \"SCORE\")"
   ]
  },
  {
   "cell_type": "code",
   "execution_count": 66,
   "id": "f2adfaab",
   "metadata": {},
   "outputs": [
    {
     "data": {
      "text/html": [
       "<div>\n",
       "<style scoped>\n",
       "    .dataframe tbody tr th:only-of-type {\n",
       "        vertical-align: middle;\n",
       "    }\n",
       "\n",
       "    .dataframe tbody tr th {\n",
       "        vertical-align: top;\n",
       "    }\n",
       "\n",
       "    .dataframe thead th {\n",
       "        text-align: right;\n",
       "    }\n",
       "</style>\n",
       "<table border=\"1\" class=\"dataframe\">\n",
       "  <thead>\n",
       "    <tr style=\"text-align: right;\">\n",
       "      <th></th>\n",
       "      <th>NAME</th>\n",
       "      <th>UNIT</th>\n",
       "      <th>SCORE</th>\n",
       "      <th>loc_area</th>\n",
       "    </tr>\n",
       "  </thead>\n",
       "  <tbody>\n",
       "    <tr>\n",
       "      <th>7</th>\n",
       "      <td>DENA B</td>\n",
       "      <td>LP</td>\n",
       "      <td>41.241150</td>\n",
       "      <td>RUNDA</td>\n",
       "    </tr>\n",
       "    <tr>\n",
       "      <th>1</th>\n",
       "      <td>MAINA J</td>\n",
       "      <td>EDA</td>\n",
       "      <td>58.658122</td>\n",
       "      <td>RUNDA</td>\n",
       "    </tr>\n",
       "    <tr>\n",
       "      <th>5</th>\n",
       "      <td>CESS M</td>\n",
       "      <td>RM</td>\n",
       "      <td>65.663859</td>\n",
       "      <td>TATU</td>\n",
       "    </tr>\n",
       "  </tbody>\n",
       "</table>\n",
       "</div>"
      ],
      "text/plain": [
       "      NAME UNIT      SCORE loc_area\n",
       "7   DENA B   LP  41.241150    RUNDA\n",
       "1  MAINA J  EDA  58.658122    RUNDA\n",
       "5   CESS M   RM  65.663859     TATU"
      ]
     },
     "execution_count": 66,
     "metadata": {},
     "output_type": "execute_result"
    }
   ],
   "source": [
    "# this function gives smallest a column(score)\n",
    "df.nsmallest(3, \"SCORE\")"
   ]
  },
  {
   "cell_type": "markdown",
   "id": "3be6b5e5",
   "metadata": {},
   "source": [
    "##### Loc and Iloc"
   ]
  },
  {
   "cell_type": "code",
   "execution_count": 114,
   "id": "dfeabad9",
   "metadata": {},
   "outputs": [
    {
     "data": {
      "text/html": [
       "<div>\n",
       "<style scoped>\n",
       "    .dataframe tbody tr th:only-of-type {\n",
       "        vertical-align: middle;\n",
       "    }\n",
       "\n",
       "    .dataframe tbody tr th {\n",
       "        vertical-align: top;\n",
       "    }\n",
       "\n",
       "    .dataframe thead th {\n",
       "        text-align: right;\n",
       "    }\n",
       "</style>\n",
       "<table border=\"1\" class=\"dataframe\">\n",
       "  <thead>\n",
       "    <tr style=\"text-align: right;\">\n",
       "      <th></th>\n",
       "      <th>NAME</th>\n",
       "      <th>UNIT</th>\n",
       "      <th>SCORE</th>\n",
       "      <th>loc_area</th>\n",
       "    </tr>\n",
       "  </thead>\n",
       "  <tbody>\n",
       "    <tr>\n",
       "      <th>IV</th>\n",
       "      <td>FARO D</td>\n",
       "      <td>CBA</td>\n",
       "      <td>89.269842</td>\n",
       "      <td>TATU</td>\n",
       "    </tr>\n",
       "    <tr>\n",
       "      <th>V</th>\n",
       "      <td>QURASHA H</td>\n",
       "      <td>RM</td>\n",
       "      <td>79.300707</td>\n",
       "      <td>MAKONGENI</td>\n",
       "    </tr>\n",
       "    <tr>\n",
       "      <th>VI</th>\n",
       "      <td>CESS M</td>\n",
       "      <td>RM</td>\n",
       "      <td>65.663859</td>\n",
       "      <td>TATU</td>\n",
       "    </tr>\n",
       "    <tr>\n",
       "      <th>VII</th>\n",
       "      <td>PAULO M</td>\n",
       "      <td>SP</td>\n",
       "      <td>75.870339</td>\n",
       "      <td>MKU</td>\n",
       "    </tr>\n",
       "  </tbody>\n",
       "</table>\n",
       "</div>"
      ],
      "text/plain": [
       "           NAME UNIT      SCORE   loc_area\n",
       "IV       FARO D  CBA  89.269842       TATU\n",
       "V    QURASHA H    RM  79.300707  MAKONGENI\n",
       "VI       CESS M   RM  65.663859       TATU\n",
       "VII     PAULO M   SP  75.870339        MKU"
      ]
     },
     "execution_count": 114,
     "metadata": {},
     "output_type": "execute_result"
    }
   ],
   "source": [
    "#loc fillters columns and row using labels\n",
    "# iloc filters columns and rows using index\n",
    "df.iloc[3:7]"
   ]
  },
  {
   "cell_type": "code",
   "execution_count": 110,
   "id": "fb74214a",
   "metadata": {},
   "outputs": [
    {
     "data": {
      "text/html": [
       "<div>\n",
       "<style scoped>\n",
       "    .dataframe tbody tr th:only-of-type {\n",
       "        vertical-align: middle;\n",
       "    }\n",
       "\n",
       "    .dataframe tbody tr th {\n",
       "        vertical-align: top;\n",
       "    }\n",
       "\n",
       "    .dataframe thead th {\n",
       "        text-align: right;\n",
       "    }\n",
       "</style>\n",
       "<table border=\"1\" class=\"dataframe\">\n",
       "  <thead>\n",
       "    <tr style=\"text-align: right;\">\n",
       "      <th></th>\n",
       "      <th>NAME</th>\n",
       "      <th>UNIT</th>\n",
       "      <th>SCORE</th>\n",
       "      <th>loc_area</th>\n",
       "    </tr>\n",
       "  </thead>\n",
       "  <tbody>\n",
       "    <tr>\n",
       "      <th>I</th>\n",
       "      <td>ADEN A</td>\n",
       "      <td>HIV</td>\n",
       "      <td>70.936518</td>\n",
       "      <td>SHALOM</td>\n",
       "    </tr>\n",
       "    <tr>\n",
       "      <th>II</th>\n",
       "      <td>MAINA J</td>\n",
       "      <td>EDA</td>\n",
       "      <td>58.658122</td>\n",
       "      <td>RUNDA</td>\n",
       "    </tr>\n",
       "    <tr>\n",
       "      <th>III</th>\n",
       "      <td>GOLD K</td>\n",
       "      <td>TOE</td>\n",
       "      <td>85.005427</td>\n",
       "      <td>MKU</td>\n",
       "    </tr>\n",
       "    <tr>\n",
       "      <th>IV</th>\n",
       "      <td>FARO D</td>\n",
       "      <td>CBA</td>\n",
       "      <td>89.269842</td>\n",
       "      <td>TATU</td>\n",
       "    </tr>\n",
       "    <tr>\n",
       "      <th>V</th>\n",
       "      <td>QURASHA H</td>\n",
       "      <td>RM</td>\n",
       "      <td>79.300707</td>\n",
       "      <td>MAKONGENI</td>\n",
       "    </tr>\n",
       "    <tr>\n",
       "      <th>VI</th>\n",
       "      <td>CESS M</td>\n",
       "      <td>RM</td>\n",
       "      <td>65.663859</td>\n",
       "      <td>TATU</td>\n",
       "    </tr>\n",
       "    <tr>\n",
       "      <th>VII</th>\n",
       "      <td>PAULO M</td>\n",
       "      <td>SP</td>\n",
       "      <td>75.870339</td>\n",
       "      <td>MKU</td>\n",
       "    </tr>\n",
       "    <tr>\n",
       "      <th>VIII</th>\n",
       "      <td>DENA B</td>\n",
       "      <td>LP</td>\n",
       "      <td>41.241150</td>\n",
       "      <td>RUNDA</td>\n",
       "    </tr>\n",
       "    <tr>\n",
       "      <th>IX</th>\n",
       "      <td>MAINA L</td>\n",
       "      <td>TOH</td>\n",
       "      <td>70.538329</td>\n",
       "      <td>YMCA</td>\n",
       "    </tr>\n",
       "    <tr>\n",
       "      <th>X</th>\n",
       "      <td>MOHAMED A</td>\n",
       "      <td>CS</td>\n",
       "      <td>89.273558</td>\n",
       "      <td>YMCA</td>\n",
       "    </tr>\n",
       "  </tbody>\n",
       "</table>\n",
       "</div>"
      ],
      "text/plain": [
       "            NAME UNIT      SCORE   loc_area\n",
       "I         ADEN A  HIV  70.936518     SHALOM\n",
       "II       MAINA J  EDA  58.658122      RUNDA\n",
       "III       GOLD K  TOE  85.005427        MKU\n",
       "IV        FARO D  CBA  89.269842       TATU\n",
       "V     QURASHA H    RM  79.300707  MAKONGENI\n",
       "VI        CESS M   RM  65.663859       TATU\n",
       "VII      PAULO M   SP  75.870339        MKU\n",
       "VIII      DENA B   LP  41.241150      RUNDA\n",
       "IX       MAINA L  TOH  70.538329       YMCA\n",
       "X      MOHAMED A   CS  89.273558       YMCA"
      ]
     },
     "execution_count": 110,
     "metadata": {},
     "output_type": "execute_result"
    }
   ],
   "source": [
    "# we index to differentiate between loc and iloc\n",
    "df.index=['I','II','III','IV','V','VI','VII','VIII','IX','X']\n",
    "df"
   ]
  },
  {
   "cell_type": "code",
   "execution_count": 111,
   "id": "7a727bb8",
   "metadata": {},
   "outputs": [
    {
     "data": {
      "text/plain": [
       "NAME           FARO D\n",
       "UNIT              CBA\n",
       "SCORE       89.269842\n",
       "loc_area         TATU\n",
       "Name: IV, dtype: object"
      ]
     },
     "execution_count": 111,
     "metadata": {},
     "output_type": "execute_result"
    }
   ],
   "source": [
    "df.loc['IV']"
   ]
  },
  {
   "cell_type": "code",
   "execution_count": null,
   "id": "d15bcf18",
   "metadata": {},
   "outputs": [],
   "source": []
  }
 ],
 "metadata": {
  "kernelspec": {
   "display_name": "Python 3 (ipykernel)",
   "language": "python",
   "name": "python3"
  },
  "language_info": {
   "codemirror_mode": {
    "name": "ipython",
    "version": 3
   },
   "file_extension": ".py",
   "mimetype": "text/x-python",
   "name": "python",
   "nbconvert_exporter": "python",
   "pygments_lexer": "ipython3",
   "version": "3.11.5"
  }
 },
 "nbformat": 4,
 "nbformat_minor": 5
}
